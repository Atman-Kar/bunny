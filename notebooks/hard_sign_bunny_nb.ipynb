{
 "cells": [
  {
   "cell_type": "code",
   "execution_count": 5,
   "metadata": {},
   "outputs": [],
   "source": [
    "import torch\n",
    "import torchvision\n",
    "import torch.nn as nn\n",
    "import torchvision.models as models \n",
    "\n",
    "net = models.resnet18(pretrained = True)\n"
   ]
  },
  {
   "cell_type": "code",
   "execution_count": 6,
   "metadata": {},
   "outputs": [],
   "source": [
    "import sys\n",
    "import os\n",
    "sys.path.insert(1, os.path.realpath(os.path.pardir))\n",
    "from src import PreProcessor, HardSignBunny\n",
    "\n",
    "preproc_module = PreProcessor()\n",
    "bunny_module = HardSignBunny()\n",
    "\n",
    "flattened_model = preproc_module.flatten_model(net)\n",
    "bunny_model = bunny_module.swap_layers(flattened_model)"
   ]
  },
  {
   "cell_type": "code",
   "execution_count": 7,
   "metadata": {},
   "outputs": [],
   "source": [
    "for params in bunny_model.parameters():\n",
    "    params.requires_grad = False"
   ]
  },
  {
   "cell_type": "code",
   "execution_count": 8,
   "metadata": {},
   "outputs": [
    {
     "name": "stdout",
     "output_type": "stream",
     "text": [
      "0.weight False\n",
      "1.weight False\n",
      "1.bias False\n",
      "4.weight False\n",
      "5.weight False\n",
      "5.bias False\n",
      "7.weight False\n",
      "8.weight False\n",
      "8.bias False\n",
      "9.weight False\n",
      "10.weight False\n",
      "10.bias False\n",
      "12.weight False\n",
      "13.weight False\n",
      "13.bias False\n",
      "14.weight False\n",
      "15.weight False\n",
      "15.bias False\n",
      "17.weight False\n",
      "18.weight False\n",
      "18.bias False\n",
      "19.weight False\n",
      "20.weight False\n",
      "20.bias False\n",
      "21.weight False\n",
      "22.weight False\n",
      "22.bias False\n",
      "24.weight False\n",
      "25.weight False\n",
      "25.bias False\n",
      "26.weight False\n",
      "27.weight False\n",
      "27.bias False\n",
      "29.weight False\n",
      "30.weight False\n",
      "30.bias False\n",
      "31.weight False\n",
      "32.weight False\n",
      "32.bias False\n",
      "33.weight False\n",
      "34.weight False\n",
      "34.bias False\n",
      "36.weight False\n",
      "37.weight False\n",
      "37.bias False\n",
      "38.weight False\n",
      "39.weight False\n",
      "39.bias False\n",
      "41.weight False\n",
      "42.weight False\n",
      "42.bias False\n",
      "43.weight False\n",
      "44.weight False\n",
      "44.bias False\n",
      "45.weight False\n",
      "46.weight False\n",
      "46.bias False\n",
      "48.weight False\n",
      "49.weight False\n",
      "49.bias False\n",
      "51.weight False\n",
      "51.bias False\n"
     ]
    }
   ],
   "source": [
    "for name, param in bunny_model.named_parameters():\n",
    "    print(name, param.requires_grad)"
   ]
  }
 ],
 "metadata": {
  "kernelspec": {
   "display_name": "Python 3.10.0 ('bunnee': venv)",
   "language": "python",
   "name": "python3"
  },
  "language_info": {
   "codemirror_mode": {
    "name": "ipython",
    "version": 3
   },
   "file_extension": ".py",
   "mimetype": "text/x-python",
   "name": "python",
   "nbconvert_exporter": "python",
   "pygments_lexer": "ipython3",
   "version": "3.10.0"
  },
  "orig_nbformat": 4,
  "vscode": {
   "interpreter": {
    "hash": "638e4f76b480ea6cdf52c5fd330084c19ea00cc35061e44cc7034f7fcbb05bd0"
   }
  }
 },
 "nbformat": 4,
 "nbformat_minor": 2
}
